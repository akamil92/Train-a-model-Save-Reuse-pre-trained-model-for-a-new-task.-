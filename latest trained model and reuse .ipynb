{
 "cells": [
  {
   "cell_type": "code",
   "execution_count": null,
   "id": "0c6840db",
   "metadata": {},
   "outputs": [],
   "source": [
    "import pandas as pd\n",
    "from sklearn.feature_extraction.text import CountVectorizer\n",
    "from sklearn.svm import LinearSVC\n",
    "import joblib"
   ]
  },
  {
   "cell_type": "code",
   "execution_count": 2,
   "id": "d60eb9be",
   "metadata": {},
   "outputs": [],
   "source": [
    "# Load the training data\n",
    "df = pd.read_csv('i3investor_MYEG_tranlated_FUD.csv')"
   ]
  },
  {
   "cell_type": "code",
   "execution_count": 3,
   "id": "6bae99b2",
   "metadata": {},
   "outputs": [],
   "source": [
    "vectorizer = CountVectorizer()\n",
    "X = vectorizer.fit_transform(df['Translated_Comments'])"
   ]
  },
  {
   "cell_type": "code",
   "execution_count": 4,
   "id": "1ee9bce9",
   "metadata": {},
   "outputs": [
    {
     "data": {
      "text/plain": [
       "LinearSVC()"
      ]
     },
     "execution_count": 4,
     "metadata": {},
     "output_type": "execute_result"
    }
   ],
   "source": [
    "model = LinearSVC()\n",
    "model.fit(X, df['Condition'])"
   ]
  },
  {
   "cell_type": "code",
   "execution_count": 5,
   "id": "27a1da8e",
   "metadata": {},
   "outputs": [
    {
     "data": {
      "text/plain": [
       "['vectorizer.joblib']"
      ]
     },
     "execution_count": 5,
     "metadata": {},
     "output_type": "execute_result"
    }
   ],
   "source": [
    "joblib.dump(model, 'model.joblib')\n",
    "joblib.dump(vectorizer, 'vectorizer.joblib')"
   ]
  },
  {
   "cell_type": "code",
   "execution_count": 13,
   "id": "f92349f6",
   "metadata": {},
   "outputs": [],
   "source": [
    "new_df = pd.read_csv(r'C:\\Users\\dell\\Desktop/Pythonprogramming/learningnpractcesentimentanalysis/i3investor_REVENUE_tranlated.CSV')"
   ]
  },
  {
   "cell_type": "code",
   "execution_count": 14,
   "id": "3ba10b6a",
   "metadata": {},
   "outputs": [],
   "source": [
    "vectorizer = joblib.load('vectorizer.joblib')\n",
    "new_X = vectorizer.transform(new_df['Translated_Comments'])"
   ]
  },
  {
   "cell_type": "code",
   "execution_count": 15,
   "id": "8ee72d93",
   "metadata": {},
   "outputs": [],
   "source": [
    "model = joblib.load('model.joblib')\n",
    "predictions = model.predict(new_X)"
   ]
  },
  {
   "cell_type": "code",
   "execution_count": 16,
   "id": "c9990683",
   "metadata": {},
   "outputs": [],
   "source": [
    "new_df['FUD_Identification'] = predictions"
   ]
  },
  {
   "cell_type": "code",
   "execution_count": 17,
   "id": "72ac3c35",
   "metadata": {},
   "outputs": [],
   "source": [
    "new_df.to_csv('new_data_with_FUD_identification.csv', index=False)"
   ]
  },
  {
   "cell_type": "code",
   "execution_count": null,
   "id": "049542b3",
   "metadata": {},
   "outputs": [],
   "source": []
  }
 ],
 "metadata": {
  "kernelspec": {
   "display_name": "Python 3 (ipykernel)",
   "language": "python",
   "name": "python3"
  },
  "language_info": {
   "codemirror_mode": {
    "name": "ipython",
    "version": 3
   },
   "file_extension": ".py",
   "mimetype": "text/x-python",
   "name": "python",
   "nbconvert_exporter": "python",
   "pygments_lexer": "ipython3",
   "version": "3.9.13"
  }
 },
 "nbformat": 4,
 "nbformat_minor": 5
}
